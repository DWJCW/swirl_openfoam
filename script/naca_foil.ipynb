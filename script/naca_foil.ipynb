{
 "cells": [
  {
   "cell_type": "code",
   "execution_count": 106,
   "id": "303aea29",
   "metadata": {},
   "outputs": [],
   "source": [
    "%matplotlib inline\n",
    "import numpy as np\n",
    "import pandas as pd\n",
    "from matplotlib import pyplot as plt"
   ]
  },
  {
   "cell_type": "code",
   "execution_count": 107,
   "id": "3517a6a5",
   "metadata": {
    "scrolled": true
   },
   "outputs": [
    {
     "data": {
      "image/png": "[encoded data removed]",
      "text/plain": [
       "<Figure size 432x288 with 1 Axes>"
      ]
     },
     "metadata": {
      "needs_background": "light"
     },
     "output_type": "display_data"
    }
   ],
   "source": [
    "L = 10\n",
    "\n",
    "\n",
    "start = 0.5\n",
    "xs = np.linspace(start, 1., 200)\n",
    "xs = 1/xs\n",
    "xs = (xs-1)/(1/start-1)\n",
    "xs = xs[-1::-1]\n",
    "NACA = [8., 4., 1., 1.]\n",
    "t = (NACA[2]*10 + NACA[3])/100\n",
    "yts = 5*t*(0.2969*np.sqrt(xs)-0.1260*xs-0.3516*np.square(xs)+0.2843*np.power(xs, 3)-0.1015*np.power(xs, 4))\n",
    "fig = plt.figure()\n",
    "ax = fig.add_subplot(111)\n",
    "_ = ax.set_aspect(1)\n",
    "_ = ax.plot(xs, yts)"
   ]
  },
  {
   "cell_type": "code",
   "execution_count": 108,
   "id": "993a84a7",
   "metadata": {},
   "outputs": [
    {
     "data": {
      "image/png": "[encoded data removed]",
      "text/plain": [
       "<Figure size 432x288 with 1 Axes>"
      ]
     },
     "metadata": {
      "needs_background": "light"
     },
     "output_type": "display_data"
    }
   ],
   "source": [
    "m = NACA[0]/100\n",
    "p = NACA[1]/10\n",
    "ycs = [m/p**2 * (2*p*x-x**2) if x <= p else m/(1-p)**2*((1-2*p)+2*p*x-x**2) for x in xs]\n",
    "thetas = [np.arctan(2*m/p**2 * (p-x)) if x <= p else np.arctan(2*m/(1-p)**2*(p-x)) for x in xs]\n",
    "xUs = xs - yts*np.sin(thetas)\n",
    "xUs = np.append(xUs, 1.0)\n",
    "yUs = ycs + yts*np.cos(thetas)\n",
    "yUs = np.append(yUs, 0.)\n",
    "xLs = xs + yts*np.sin(thetas)\n",
    "xLs = np.append(xLs, 1.0)\n",
    "yLs = ycs - yts*np.cos(thetas)\n",
    "yLs = np.append(yLs, 0.0)\n",
    "fig = plt.figure()\n",
    "ax = fig.add_subplot(111)\n",
    "_ = ax.set_aspect(1)\n",
    "_ = ax.plot(xUs, yUs)\n",
    "_ = ax.plot(xLs, yLs)"
   ]
  },
  {
   "cell_type": "code",
   "execution_count": 109,
   "id": "fa251af8",
   "metadata": {},
   "outputs": [
    {
     "data": {
      "image/png": "[encoded data removed]",
      "text/plain": [
       "<Figure size 432x288 with 1 Axes>"
      ]
     },
     "metadata": {
      "needs_background": "light"
     },
     "output_type": "display_data"
    }
   ],
   "source": [
    "x_finals = np.append(xUs, xLs[-2::-1])*L\n",
    "y_finals = np.append(yUs, yLs[-2::-1])*L\n",
    "fig = plt.figure()\n",
    "ax = fig.add_subplot(111)\n",
    "_ = ax.set_aspect(1)\n",
    "_ = ax.plot(x_finals, y_finals)\n",
    "air_foil = pd.DataFrame(data = np.array([x_finals, y_finals]).T, columns = ['x', 'y'])\n",
    "filepath = \"../CAD/NACA8411.xlsx\"\n",
    "air_foil.to_excel(filepath, index = False)"
   ]
  },
  {
   "cell_type": "code",
   "execution_count": 110,
   "id": "8907d8a0",
   "metadata": {},
   "outputs": [],
   "source": [
    "air_foil = pd.DataFrame(data = np.array([xUs*L, yUs*L]).T, columns = ['x', 'y'])\n",
    "filepath = \"../CAD/NACA8411U.xlsx\"\n",
    "air_foil.to_excel(filepath, index = False)\n",
    "air_foil = pd.DataFrame(data = np.array([xLs*L, yLs*L]).T, columns = ['x', 'y'])\n",
    "filepath = \"../CAD/NACA8411L.xlsx\"\n",
    "air_foil.to_excel(filepath, index = False)"
   ]
  },
  {
   "cell_type": "code",
   "execution_count": null,
   "id": "bdea5738",
   "metadata": {},
   "outputs": [],
   "source": []
  }
 ],
 "metadata": {
  "kernelspec": {
   "display_name": "Python 3",
   "language": "python",
   "name": "python3"
  },
  "language_info": {
   "codemirror_mode": {
    "name": "ipython",
    "version": 3
   },
   "file_extension": ".py",
   "mimetype": "text/x-python",
   "name": "python",
   "nbconvert_exporter": "python",
   "pygments_lexer": "ipython3",
   "version": "3.8.8"
  }
 },
 "nbformat": 4,
 "nbformat_minor": 5
}
